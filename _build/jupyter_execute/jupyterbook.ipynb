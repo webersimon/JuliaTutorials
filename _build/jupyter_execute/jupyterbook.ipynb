{
 "cells": [
  {
   "cell_type": "markdown",
   "metadata": {},
   "source": [
    "# Creating a Jupyter book"
   ]
  },
  {
   "cell_type": "markdown",
   "metadata": {},
   "source": [
    "In this section, I cover briefly how to create (and publish) a jupyter book. These notes are based on the excellent introduction available here https://jupyterbook.org/start/your-first-book.html. "
   ]
  },
  {
   "cell_type": "markdown",
   "metadata": {},
   "source": [
    "## Installing Python\n",
    "The easiest way to install Python is to download Anaconda or Miniconda. \n",
    "\n",
    "## Switching to Python 3.7\n",
    "Unfortunately, there are issues when building a jupyter book when using more recent versions of python. To avoid this, we will use an older version of Python (python 3.7). To easily switch between versions of python, we will create a specific environment which will contain python 3.7. To do this, we open the Anaconda Prompt and type\n",
    "```\n",
    "conda create --name python37 python=3.7\n",
    "```\n",
    "where \"python37\" is the name we give to that environment (could be anything). \n",
    "To activate this envrionment, we open the Anaconda Prompt and type\n",
    "``` \n",
    "activate python37\n",
    "```\n",
    "and to check the version of python being used\n",
    "```\n",
    "python -V\n",
    "```\n",
    "\n",
    "## Creating a GitHub repository for the book\n",
    "1. Create an account on GitHub\n",
    "2. Create a public repository for the book, for example \"mynewbook\"\n",
    "3. Install GitHub desktop (useful to sync changes made to the book) and clone the book repository.\n",
    "\n",
    "## Creating the book\n",
    "1. Open Anaconda Prompt and activate an environment containing python 3.7\n",
    "2. Install Jupyter book\n",
    "```\n",
    "pip install -U jupyter-book\n",
    "```\n",
    "3. Create the book \n",
    "``` \n",
    "jupyter-book create mynewbook/\n",
    "```\n",
    "This will create an example book with a basic structure that we can then edit to our liking. \n",
    "\n",
    "4. Locate the book files that have just been created and move them to the GitHub repository. We can now edit these files (that is, write the book) and push any changes to the main branch of our Github repository.\n",
    "\n",
    "## Building the book in HTML format\n",
    "To build the book (in an environment with python 3.7), we run\n",
    "```\n",
    "jupyter-book build path_to_book\n",
    "```\n",
    "\n",
    "## Publishing the book on GitHub\n",
    "There are several ways to proceed but one of the simplest is\n",
    "1. Create a /docs/ folder in the main branch of the repository. Add a file called \".nojekyll\".\n",
    "2. Copy the content of the _build/html/ folder to the /docs/ folder, and commit the changes to the main branch\n",
    "3. On the GitHub website, go to the repository page, then Settings > Pages and in Source select the branch \"main\" and the folder \"docs\". The website should take a few minutes to build\n",
    "\n"
   ]
  }
 ],
 "metadata": {
  "language_info": {
   "codemirror_mode": {
    "name": "ipython",
    "version": 3
   },
   "file_extension": ".py",
   "mimetype": "text/x-python",
   "name": "python",
   "nbconvert_exporter": "python",
   "pygments_lexer": "ipython3",
   "version": "3.7.16"
  }
 },
 "nbformat": 4,
 "nbformat_minor": 2
}