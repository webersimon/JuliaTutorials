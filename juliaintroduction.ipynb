{
 "cells": [
  {
   "attachments": {},
   "cell_type": "markdown",
   "metadata": {},
   "source": [
    "# The Julia programming language and some applications\n",
    "\n",
    "## 1. A brief overview of Julia\n",
    "\n",
    "### Introduction\n",
    "[Julia](https://julialang.org/) is a fairly recent programming language, started in 2009. It's part of crowded field that includes\n",
    "- Matlab\n",
    "- R\n",
    "- Python\n",
    "- Stata\n",
    "- C\n",
    "- Fortran\n",
    "\n",
    "and many others.\n",
    "\n",
    "### Motivation\n",
    "I am not an advocate of any particular language, but rather believe in choosing the right tool for the job. I find Julia particularly good for scientific computing, optimization, parallel computing. Some of its avantages are\n",
    "- Free and open source\n",
    "- Fast\n",
    "- Growing library of packages for e.g. optimization, data visualization, machine learning, parallel computing, etc.\n",
    "- Choice of good integrated development environments (IDEs)\n",
    "- Creating packages and Jupyter notebooks\n",
    "\n",
    "Sometimes, learning about a new language, the best practices for that language and some of the packages available in that language can can point us in the right direction to solve a particular problem.\n",
    "\n",
    "### The Julia ecosystem\n",
    "\n",
    "Here are some examples of well-established Julia packages:\n",
    "- Linear Algebra: ```LinearAlgebra.jl```, ```SparseArrays.jl```\n",
    "- Data and data visualization: ```DataFrames.jl```, ```CSV.jl```, ```ReadStatTables.jl```, ```Plots.jl```, ```PyPlot.jl``` \n",
    "- Optimization: ```JuMP.jl```, ```Optim.jl```\n",
    "- Differentiation: ```ForwardDiff.jl```, ```FiniteDifferences.jl```\n",
    "- Econometrics: ```GLM.jl```\n",
    "- Parallel computing: ```Distributed.jl```\n",
    "- Machine learning: ```MLJ.jl```\n",
    "\n",
    "### Performance\n",
    "\n",
    "![](benchmarks.svg)\n",
    "\n",
    "(source: https://julialang.org/benchmarks/)\n",
    "\n",
    "### Lingering issues\n",
    "- Still a new language so regular updates mean updating code regularly\n",
    "- Smaller library of well established packages\n",
    "- Some things that \"just work\" in other languages won't in Julia\n",
    "- Documentation is sometimes lacking\n",
    "\n",
    "\n",
    "\n",
    "## 2. Three applications\n",
    "\n",
    "- Web scraping\n",
    "- Parallel computing\n",
    "- Optimization in JuMP\n"
   ]
  },
  {
   "attachments": {},
   "cell_type": "markdown",
   "metadata": {},
   "source": [
    "\n",
    "### Web scraping\n",
    "\n",
    "According to [Śpiewanowski et al. 2022](https://oxfordre.com/economics/display/10.1093/acrefore/9780190625979.001.0001/acrefore-9780190625979-e-652), \"web scraping refers to the process of collecting data from web pages either manually or using automation tools or specialized software.\"\n",
    "\n",
    "Web scraping has been used in economics for collecting data on (see [Śpiewanowski et al. 2022](https://oxfordre.com/economics/display/10.1093/acrefore/9780190625979.001.0001/acrefore-9780190625979-e-652) and references therein)\n",
    "- job vacancies ([Khun and Shen 2012](https://academic.oup.com/qje/article/128/1/287/1839620), [Adams et al. 2020](https://www.iza.org/publications/dp/13691/flexible-work-arrangements-in-low-wage-jobs-evidence-from-job-vacancy-data) using Burning Glass Technologies data)\n",
    "- tribunal decisions ([Adams et al. 2021](https://www.cambridge.org/core/journals/legal-studies/article/online-tribunal-judgments-and-the-limits-of-open-justice/4B4BDF453875CCA1769129027686D6AE))\n",
    "- prices ([Yilmaz et al. 2022](https://www.tandfonline.com/doi/full/10.1080/13571516.2022.2033078), [Cavallo 2018](https://direct.mit.edu/rest/article/100/1/105/58407/Scraped-Data-and-Sticky-Prices))\n",
    "- etc.\n",
    "\n",
    "Before doing anything, we should check that we can scrape data from the website we are interested in:\n",
    "- check the terms and conditions!\n",
    "- check the ```robots.txt``` file on the website.\n",
    "\n",
    "Sometimes, website will provide users access to an Application Programming Interface (API), which facilitate access to the information. Conversely, there are many websites for which the simple methods introduced below won't work because:\n",
    "- a user account is needed to access the website\n",
    "- there are restrictions on the type of users who can access the website (Tho kindly provided [this example](https://york.cloud.panopto.eu/Panopto/Pages/Viewer.aspx?id=865f116c-3afc-4809-ad40-afc600ab59a7) with age restrictions - thanks!)\n",
    "- some websites will quickly kick us out after a few requests. Possible solutions include using packages to change our IP address, including a random waiting time before the next request, etc. \n",
    "\n",
    "Now, on to the actual scrapping. For the purpose of this application, I would like to collect milk prices on Morrisons. \n",
    "First, let's start by scraping some information from the results page after search for the keyword ``semi skimmed milk pint''.\n"
   ]
  },
  {
   "cell_type": "code",
   "execution_count": null,
   "metadata": {},
   "outputs": [],
   "source": [
    "using HTTP, Cascadia, Gumbo\n",
    "using DataFrames\n",
    "keyword = \"semi-skimmed-milk-pint\"\n",
    "\n",
    "# Base URL\n",
    "url_base       = \"https://groceries.morrisons.com/search?entry=\"\n",
    "results_url    = string(url_base, keyword)              # Construct the URL for the search results page\n",
    "results_html   = HTTP.get(results_url)                  # Get the HTML for the search results page\n",
    "results_parsed = parsehtml(String(results_html.body))   # Parse the HTML for the search results page"
   ]
  },
  {
   "cell_type": "code",
   "execution_count": null,
   "metadata": {},
   "outputs": [],
   "source": [
    "# Method 1: regular expressions.\n",
    "results_string = string(results_parsed)                                                                 # Convert the parsed HTML to a string.\n",
    "d = DataFrame(url = [])\n",
    "f = findall(r\"class=\\\"fop-contentWrapper\\\" role=\\\"presentation\\\"><a href=\\\"(.*?)\\\">\",results_string)    # Looks like this pattern gets us the urls.\n",
    "for k=1:length(f)\n",
    "    m = match(r\"class=\\\"fop-contentWrapper\\\" role=\\\"presentation\\\"><a href=\\\"(.*?)\\\">\", results_string[f[k]])\n",
    "    push!(d, Dict(:url => string(\"https://groceries.morrisons.com\",m.captures[1])))                     # Adds the url to our database.\n",
    "end\n",
    "d"
   ]
  },
  {
   "cell_type": "code",
   "execution_count": null,
   "metadata": {},
   "outputs": [],
   "source": [
    "# Method 2: selectors.\n",
    "d = DataFrame(url = [])\n",
    "results_selector = eachmatch(Selector(\"#main-content > div:nth-child(2) > div.main-column > ul\"),results_parsed.root)    # After inspecting the page, we see that this selector gets us closer to the information we need.\n",
    "\n",
    "for child in results_selector[1].children\n",
    "    push!(d, Dict(:url => string(\"https://groceries.morrisons.com\",child[2][1][1].attributes[\"href\"])))                  # After some (manual) searching, we locate the information we need and add it to the database.\n",
    "end\n",
    "d"
   ]
  },
  {
   "attachments": {},
   "cell_type": "markdown",
   "metadata": {},
   "source": [
    "Now that we have a list of urls of products, we can load the page of each product and extract the information we need. Let's use Method 2 to do that."
   ]
  },
  {
   "cell_type": "code",
   "execution_count": null,
   "metadata": {},
   "outputs": [],
   "source": [
    "d.price = Vector{Union{Missing, Float64}}(missing, length(d.url)) \n",
    "for k = 1:3                                                 # Scrape data for first 3 products only\n",
    "    sleep(rand(1)[1])                                       # Random waiting time                                  \n",
    "    product_html   = HTTP.get(d.url[k])                     # Get the HTML for the product page\n",
    "    product_parsed = parsehtml(String(product_html.body))   # Parse the HTML for the product page\n",
    "    product_selector = eachmatch(Selector(\"#overview > section.bop-section.bop-basicInfo > div.bop-price > div > h2\"),product_parsed.root)   # the selector that gets us closer to the information we need.\n",
    "\n",
    "    d.price[k] = parse(Float64,string(product_selector[1].children[1].attributes[\"content\"]))\n",
    "end\n",
    "d"
   ]
  },
  {
   "attachments": {},
   "cell_type": "markdown",
   "metadata": {},
   "source": [
    "### Parallel computing\n",
    "\n",
    "- Bootstrapping. Suppose we want to obtain bootstrapped standard errors and let $K$ be the number of bootstraps. If it takes time to obtain the estimates for one sample, then bootstrapping will be very computationally intensive. We can use parallel computing to alleviate this problem.\n"
   ]
  },
  {
   "cell_type": "code",
   "execution_count": null,
   "metadata": {},
   "outputs": [],
   "source": [
    "using Distributed     # a Julia package to do parallel computing\n",
    "addprocs()            # adding workers\n",
    "workers()             # checking the number of workers"
   ]
  },
  {
   "cell_type": "code",
   "execution_count": null,
   "metadata": {},
   "outputs": [],
   "source": [
    "@everywhere function bootstrap(k)    # an example bootstrap function, that we want to run K times.\n",
    "    sleep(0.1)\n",
    "    return \"Some estimates\"\n",
    "end"
   ]
  },
  {
   "attachments": {},
   "cell_type": "markdown",
   "metadata": {},
   "source": [
    "If $K=100$, it would take roughly $10$ seconds to obtain the bootstrapped standard errors:"
   ]
  },
  {
   "cell_type": "code",
   "execution_count": null,
   "metadata": {},
   "outputs": [],
   "source": [
    "K  = 100\n",
    "x0 = rand(K) \n",
    "\n",
    "start = time()\n",
    "for k=1:K\n",
    "bootstrap(k)\n",
    "end\n",
    "println(string(\"Time elapsed: \", time() - start))"
   ]
  },
  {
   "cell_type": "markdown",
   "metadata": {},
   "source": [
    "Let us use a parallel version of the code above:"
   ]
  },
  {
   "cell_type": "code",
   "execution_count": null,
   "metadata": {},
   "outputs": [],
   "source": [
    "println(string(\"Number of workers: \", nworkers()))\n",
    "start = time()\n",
    "Distributed.pmap(k -> bootstrap(k), collect(1:K))\n",
    "println(string(\"Time elapsed: \", time() - start))"
   ]
  },
  {
   "attachments": {},
   "cell_type": "markdown",
   "metadata": {},
   "source": [
    "- Numerical differentiation. Suppose we want to compute (numerically) the derivative the gradient of some function\n",
    "$$\n",
    "f: \\mathbb{R}^m \\rightarrow \\mathbb{R}\n",
    "$$\n",
    "Using a simple forward method, we would need to evaluate the function $m+1$ times, which might be computationally intensive. Once again, we can use parallel computing to alleviate this problem."
   ]
  },
  {
   "cell_type": "code",
   "execution_count": null,
   "metadata": {},
   "outputs": [],
   "source": [
    "@everywhere begin\n",
    "    using NonLinearProg\n",
    "    function fun(x)\n",
    "        sleep(0.1)\n",
    "        return sum(x.*x)\n",
    "    end\n",
    "    function insert(x,xk,k)\n",
    "        new_x = copy(x)\n",
    "        new_x[k] = xk\n",
    "        return new_x\n",
    "    end\n",
    "end"
   ]
  },
  {
   "cell_type": "code",
   "execution_count": null,
   "metadata": {},
   "outputs": [],
   "source": [
    "m  = 100\n",
    "x0 = rand(m) \n",
    "\n",
    "# Without parallel computing\n",
    "start = time()\n",
    "NonLinearProg.derivative(fun,x0)\n",
    "println(string(\"Time elapsed: \", time() - start))\n",
    "\n",
    "# With parallel computing\n",
    "println(string(\"Number of workers: \", nworkers()))\n",
    "start = time()\n",
    "g = Distributed.pmap(k -> NonLinearProg.derivative(xk -> fun(insert(x0,xk,k)), x0[k]), collect(1:length(x0)))\n",
    "println(string(\"Time elapsed: \", time() - start))"
   ]
  },
  {
   "attachments": {},
   "cell_type": "markdown",
   "metadata": {},
   "source": [
    "### Optimization in JuMP\n",
    "Suppose we want to solve the following utility maximization problem\n",
    "$$\n",
    "\\max_{x_1 \\geq 0, x_2 \\geq 0}  x_1^\\alpha x_2^{1-\\alpha}\n",
    "$$\n",
    "subject to \n",
    "$$\n",
    "p_1 x_1 + p_2 x_2 \\leq m\n",
    "$$\n",
    "\n",
    "We solve this problem in JuMP as follows:"
   ]
  },
  {
   "cell_type": "code",
   "execution_count": null,
   "metadata": {},
   "outputs": [],
   "source": [
    "using JuMP     # a Julia optimization interface package\n",
    "using Ipopt    # a well known solver\n",
    "m  = 5.0\n",
    "p1 = 1.0\n",
    "p2 = 2.0\n",
    "alpha = 0.5\n",
    "model = Model(Ipopt.Optimizer)                           # initialize the model, using Ipopt as solver\n",
    "@variable(model, x1 >= 0)                                # add x1 variable (and bound constraint)\n",
    "@variable(model, x2 >= 0)                                # add x2 variable (and bound constraint)\n",
    "@constraint(model, p1*x1 + p2*x2 <= m)                   # add constraint\n",
    "@NLobjective(model, Max, (x1^alpha) * (x2^(1-alpha)))    # objective function\n",
    "optimize!(model)                                         # solve problem\n",
    "println([value(x1); value(x2)])                          # print optimal values"
   ]
  },
  {
   "attachments": {},
   "cell_type": "markdown",
   "metadata": {},
   "source": [
    "We can easily adapt this code to solve the utility maximization problem for many consumers at a time. For example:"
   ]
  },
  {
   "cell_type": "code",
   "execution_count": null,
   "metadata": {},
   "outputs": [],
   "source": [
    "N = 1000\n",
    "m  = 5 .+ rand(N)\n",
    "p1 = 1.0 .+ rand(N)\n",
    "p2 = 2.0 .+ rand(N)\n",
    "alpha = rand(N)\n",
    "model = Model(Ipopt.Optimizer)\n",
    "@variable(model, x1[i=1:N] >= 0)\n",
    "@variable(model, x2[i=1:N] >= 0)\n",
    "@constraint(model, [i=1:N], p1[i]*x1[i] + p2[i]*x2[i] <= m[i])\n",
    "@NLobjective(model, Max, sum((x1[i]^alpha[i]) * (x2[i]^(1-alpha[i])) for i=1:N))\n",
    "optimize!(model)\n",
    "println(value.(x1)[1:10])"
   ]
  }
 ],
 "metadata": {
  "kernelspec": {
   "display_name": "Julia 1.8.5",
   "language": "julia",
   "name": "julia-1.8"
  },
  "language_info": {
   "file_extension": ".jl",
   "mimetype": "application/julia",
   "name": "julia",
   "version": "1.8.5"
  },
  "orig_nbformat": 4
 },
 "nbformat": 4,
 "nbformat_minor": 2
}
